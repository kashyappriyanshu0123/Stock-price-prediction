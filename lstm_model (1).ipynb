{
 "cells": [
  {
   "cell_type": "code",
   "execution_count": 29,
   "id": "04880163",
   "metadata": {},
   "outputs": [],
   "source": [
    "import numpy as np\n",
    "import pandas as pd\n",
    "import matplotlib.pyplot as plt \n",
    "from datetime import date\n",
    "from pandas_datareader import data as pdr\n",
    "import yfinance as yf\n"
   ]
  },
  {
   "cell_type": "code",
   "execution_count": 30,
   "id": "e2b89035",
   "metadata": {
    "scrolled": true
   },
   "outputs": [
    {
     "name": "stdout",
     "output_type": "stream",
     "text": [
      "[*********************100%***********************]  1 of 1 completed\n"
     ]
    }
   ],
   "source": [
    "# start=datetime(2020,12,1)\n",
    "# end=datetime(2022,12,15)\n",
    "yf.pdr_override()\n",
    "start='2010-11-01'\n",
    "end='2022-12-12'\n",
    "df=pdr.get_data_yahoo(\"AAPL\",start,end)\n"
   ]
  },
  {
   "cell_type": "code",
   "execution_count": 31,
   "id": "ae3e120e",
   "metadata": {},
   "outputs": [
    {
     "data": {
      "text/html": [
       "<div>\n",
       "<style scoped>\n",
       "    .dataframe tbody tr th:only-of-type {\n",
       "        vertical-align: middle;\n",
       "    }\n",
       "\n",
       "    .dataframe tbody tr th {\n",
       "        vertical-align: top;\n",
       "    }\n",
       "\n",
       "    .dataframe thead th {\n",
       "        text-align: right;\n",
       "    }\n",
       "</style>\n",
       "<table border=\"1\" class=\"dataframe\">\n",
       "  <thead>\n",
       "    <tr style=\"text-align: right;\">\n",
       "      <th></th>\n",
       "      <th>Open</th>\n",
       "      <th>High</th>\n",
       "      <th>Low</th>\n",
       "      <th>Close</th>\n",
       "      <th>Adj Close</th>\n",
       "      <th>Volume</th>\n",
       "    </tr>\n",
       "    <tr>\n",
       "      <th>Date</th>\n",
       "      <th></th>\n",
       "      <th></th>\n",
       "      <th></th>\n",
       "      <th></th>\n",
       "      <th></th>\n",
       "      <th></th>\n",
       "    </tr>\n",
       "  </thead>\n",
       "  <tbody>\n",
       "    <tr>\n",
       "      <th>2010-11-01</th>\n",
       "      <td>10.793571</td>\n",
       "      <td>10.914286</td>\n",
       "      <td>10.792857</td>\n",
       "      <td>10.863571</td>\n",
       "      <td>9.260303</td>\n",
       "      <td>423889200</td>\n",
       "    </tr>\n",
       "    <tr>\n",
       "      <th>2010-11-02</th>\n",
       "      <td>10.964286</td>\n",
       "      <td>11.078214</td>\n",
       "      <td>10.964286</td>\n",
       "      <td>11.048571</td>\n",
       "      <td>9.417996</td>\n",
       "      <td>433930000</td>\n",
       "    </tr>\n",
       "    <tr>\n",
       "      <th>2010-11-03</th>\n",
       "      <td>11.120357</td>\n",
       "      <td>11.174286</td>\n",
       "      <td>11.018929</td>\n",
       "      <td>11.171429</td>\n",
       "      <td>9.522728</td>\n",
       "      <td>508348400</td>\n",
       "    </tr>\n",
       "    <tr>\n",
       "      <th>2010-11-04</th>\n",
       "      <td>11.266071</td>\n",
       "      <td>11.435000</td>\n",
       "      <td>11.251071</td>\n",
       "      <td>11.366786</td>\n",
       "      <td>9.689248</td>\n",
       "      <td>642488000</td>\n",
       "    </tr>\n",
       "    <tr>\n",
       "      <th>2010-11-05</th>\n",
       "      <td>11.356786</td>\n",
       "      <td>11.413214</td>\n",
       "      <td>11.312500</td>\n",
       "      <td>11.326071</td>\n",
       "      <td>9.654544</td>\n",
       "      <td>361253200</td>\n",
       "    </tr>\n",
       "  </tbody>\n",
       "</table>\n",
       "</div>"
      ],
      "text/plain": [
       "                 Open       High        Low      Close  Adj Close     Volume\n",
       "Date                                                                        \n",
       "2010-11-01  10.793571  10.914286  10.792857  10.863571   9.260303  423889200\n",
       "2010-11-02  10.964286  11.078214  10.964286  11.048571   9.417996  433930000\n",
       "2010-11-03  11.120357  11.174286  11.018929  11.171429   9.522728  508348400\n",
       "2010-11-04  11.266071  11.435000  11.251071  11.366786   9.689248  642488000\n",
       "2010-11-05  11.356786  11.413214  11.312500  11.326071   9.654544  361253200"
      ]
     },
     "execution_count": 31,
     "metadata": {},
     "output_type": "execute_result"
    }
   ],
   "source": [
    "df.head()\n"
   ]
  },
  {
   "cell_type": "code",
   "execution_count": 32,
   "id": "48f0d1bc",
   "metadata": {},
   "outputs": [
    {
     "data": {
      "text/html": [
       "<div>\n",
       "<style scoped>\n",
       "    .dataframe tbody tr th:only-of-type {\n",
       "        vertical-align: middle;\n",
       "    }\n",
       "\n",
       "    .dataframe tbody tr th {\n",
       "        vertical-align: top;\n",
       "    }\n",
       "\n",
       "    .dataframe thead th {\n",
       "        text-align: right;\n",
       "    }\n",
       "</style>\n",
       "<table border=\"1\" class=\"dataframe\">\n",
       "  <thead>\n",
       "    <tr style=\"text-align: right;\">\n",
       "      <th></th>\n",
       "      <th>Open</th>\n",
       "      <th>High</th>\n",
       "      <th>Low</th>\n",
       "      <th>Close</th>\n",
       "      <th>Adj Close</th>\n",
       "      <th>Volume</th>\n",
       "    </tr>\n",
       "    <tr>\n",
       "      <th>Date</th>\n",
       "      <th></th>\n",
       "      <th></th>\n",
       "      <th></th>\n",
       "      <th></th>\n",
       "      <th></th>\n",
       "      <th></th>\n",
       "    </tr>\n",
       "  </thead>\n",
       "  <tbody>\n",
       "    <tr>\n",
       "      <th>2022-12-05</th>\n",
       "      <td>147.770004</td>\n",
       "      <td>150.919998</td>\n",
       "      <td>145.770004</td>\n",
       "      <td>146.630005</td>\n",
       "      <td>146.630005</td>\n",
       "      <td>68826400</td>\n",
       "    </tr>\n",
       "    <tr>\n",
       "      <th>2022-12-06</th>\n",
       "      <td>147.070007</td>\n",
       "      <td>147.300003</td>\n",
       "      <td>141.919998</td>\n",
       "      <td>142.910004</td>\n",
       "      <td>142.910004</td>\n",
       "      <td>64727200</td>\n",
       "    </tr>\n",
       "    <tr>\n",
       "      <th>2022-12-07</th>\n",
       "      <td>142.190002</td>\n",
       "      <td>143.369995</td>\n",
       "      <td>140.000000</td>\n",
       "      <td>140.940002</td>\n",
       "      <td>140.940002</td>\n",
       "      <td>69721100</td>\n",
       "    </tr>\n",
       "    <tr>\n",
       "      <th>2022-12-08</th>\n",
       "      <td>142.360001</td>\n",
       "      <td>143.520004</td>\n",
       "      <td>141.100006</td>\n",
       "      <td>142.649994</td>\n",
       "      <td>142.649994</td>\n",
       "      <td>62128300</td>\n",
       "    </tr>\n",
       "    <tr>\n",
       "      <th>2022-12-09</th>\n",
       "      <td>142.339996</td>\n",
       "      <td>145.570007</td>\n",
       "      <td>140.899994</td>\n",
       "      <td>142.160004</td>\n",
       "      <td>142.160004</td>\n",
       "      <td>76097000</td>\n",
       "    </tr>\n",
       "  </tbody>\n",
       "</table>\n",
       "</div>"
      ],
      "text/plain": [
       "                  Open        High         Low       Close   Adj Close  \\\n",
       "Date                                                                     \n",
       "2022-12-05  147.770004  150.919998  145.770004  146.630005  146.630005   \n",
       "2022-12-06  147.070007  147.300003  141.919998  142.910004  142.910004   \n",
       "2022-12-07  142.190002  143.369995  140.000000  140.940002  140.940002   \n",
       "2022-12-08  142.360001  143.520004  141.100006  142.649994  142.649994   \n",
       "2022-12-09  142.339996  145.570007  140.899994  142.160004  142.160004   \n",
       "\n",
       "              Volume  \n",
       "Date                  \n",
       "2022-12-05  68826400  \n",
       "2022-12-06  64727200  \n",
       "2022-12-07  69721100  \n",
       "2022-12-08  62128300  \n",
       "2022-12-09  76097000  "
      ]
     },
     "execution_count": 32,
     "metadata": {},
     "output_type": "execute_result"
    }
   ],
   "source": [
    "df.tail()"
   ]
  },
  {
   "cell_type": "code",
   "execution_count": 33,
   "id": "a7bbbc5b",
   "metadata": {},
   "outputs": [
    {
     "data": {
      "text/html": [
       "<div>\n",
       "<style scoped>\n",
       "    .dataframe tbody tr th:only-of-type {\n",
       "        vertical-align: middle;\n",
       "    }\n",
       "\n",
       "    .dataframe tbody tr th {\n",
       "        vertical-align: top;\n",
       "    }\n",
       "\n",
       "    .dataframe thead th {\n",
       "        text-align: right;\n",
       "    }\n",
       "</style>\n",
       "<table border=\"1\" class=\"dataframe\">\n",
       "  <thead>\n",
       "    <tr style=\"text-align: right;\">\n",
       "      <th></th>\n",
       "      <th>Date</th>\n",
       "      <th>Open</th>\n",
       "      <th>High</th>\n",
       "      <th>Low</th>\n",
       "      <th>Close</th>\n",
       "      <th>Adj Close</th>\n",
       "      <th>Volume</th>\n",
       "    </tr>\n",
       "  </thead>\n",
       "  <tbody>\n",
       "    <tr>\n",
       "      <th>0</th>\n",
       "      <td>2010-11-01</td>\n",
       "      <td>10.793571</td>\n",
       "      <td>10.914286</td>\n",
       "      <td>10.792857</td>\n",
       "      <td>10.863571</td>\n",
       "      <td>9.260303</td>\n",
       "      <td>423889200</td>\n",
       "    </tr>\n",
       "    <tr>\n",
       "      <th>1</th>\n",
       "      <td>2010-11-02</td>\n",
       "      <td>10.964286</td>\n",
       "      <td>11.078214</td>\n",
       "      <td>10.964286</td>\n",
       "      <td>11.048571</td>\n",
       "      <td>9.417996</td>\n",
       "      <td>433930000</td>\n",
       "    </tr>\n",
       "    <tr>\n",
       "      <th>2</th>\n",
       "      <td>2010-11-03</td>\n",
       "      <td>11.120357</td>\n",
       "      <td>11.174286</td>\n",
       "      <td>11.018929</td>\n",
       "      <td>11.171429</td>\n",
       "      <td>9.522728</td>\n",
       "      <td>508348400</td>\n",
       "    </tr>\n",
       "    <tr>\n",
       "      <th>3</th>\n",
       "      <td>2010-11-04</td>\n",
       "      <td>11.266071</td>\n",
       "      <td>11.435000</td>\n",
       "      <td>11.251071</td>\n",
       "      <td>11.366786</td>\n",
       "      <td>9.689248</td>\n",
       "      <td>642488000</td>\n",
       "    </tr>\n",
       "    <tr>\n",
       "      <th>4</th>\n",
       "      <td>2010-11-05</td>\n",
       "      <td>11.356786</td>\n",
       "      <td>11.413214</td>\n",
       "      <td>11.312500</td>\n",
       "      <td>11.326071</td>\n",
       "      <td>9.654544</td>\n",
       "      <td>361253200</td>\n",
       "    </tr>\n",
       "  </tbody>\n",
       "</table>\n",
       "</div>"
      ],
      "text/plain": [
       "        Date       Open       High        Low      Close  Adj Close     Volume\n",
       "0 2010-11-01  10.793571  10.914286  10.792857  10.863571   9.260303  423889200\n",
       "1 2010-11-02  10.964286  11.078214  10.964286  11.048571   9.417996  433930000\n",
       "2 2010-11-03  11.120357  11.174286  11.018929  11.171429   9.522728  508348400\n",
       "3 2010-11-04  11.266071  11.435000  11.251071  11.366786   9.689248  642488000\n",
       "4 2010-11-05  11.356786  11.413214  11.312500  11.326071   9.654544  361253200"
      ]
     },
     "execution_count": 33,
     "metadata": {},
     "output_type": "execute_result"
    }
   ],
   "source": [
    "df=df.reset_index()\n",
    "df.head()"
   ]
  },
  {
   "cell_type": "code",
   "execution_count": 34,
   "id": "973d1953",
   "metadata": {},
   "outputs": [
    {
     "data": {
      "text/html": [
       "<div>\n",
       "<style scoped>\n",
       "    .dataframe tbody tr th:only-of-type {\n",
       "        vertical-align: middle;\n",
       "    }\n",
       "\n",
       "    .dataframe tbody tr th {\n",
       "        vertical-align: top;\n",
       "    }\n",
       "\n",
       "    .dataframe thead th {\n",
       "        text-align: right;\n",
       "    }\n",
       "</style>\n",
       "<table border=\"1\" class=\"dataframe\">\n",
       "  <thead>\n",
       "    <tr style=\"text-align: right;\">\n",
       "      <th></th>\n",
       "      <th>Open</th>\n",
       "      <th>High</th>\n",
       "      <th>Low</th>\n",
       "      <th>Close</th>\n",
       "      <th>Volume</th>\n",
       "    </tr>\n",
       "  </thead>\n",
       "  <tbody>\n",
       "    <tr>\n",
       "      <th>0</th>\n",
       "      <td>10.793571</td>\n",
       "      <td>10.914286</td>\n",
       "      <td>10.792857</td>\n",
       "      <td>10.863571</td>\n",
       "      <td>423889200</td>\n",
       "    </tr>\n",
       "    <tr>\n",
       "      <th>1</th>\n",
       "      <td>10.964286</td>\n",
       "      <td>11.078214</td>\n",
       "      <td>10.964286</td>\n",
       "      <td>11.048571</td>\n",
       "      <td>433930000</td>\n",
       "    </tr>\n",
       "    <tr>\n",
       "      <th>2</th>\n",
       "      <td>11.120357</td>\n",
       "      <td>11.174286</td>\n",
       "      <td>11.018929</td>\n",
       "      <td>11.171429</td>\n",
       "      <td>508348400</td>\n",
       "    </tr>\n",
       "    <tr>\n",
       "      <th>3</th>\n",
       "      <td>11.266071</td>\n",
       "      <td>11.435000</td>\n",
       "      <td>11.251071</td>\n",
       "      <td>11.366786</td>\n",
       "      <td>642488000</td>\n",
       "    </tr>\n",
       "    <tr>\n",
       "      <th>4</th>\n",
       "      <td>11.356786</td>\n",
       "      <td>11.413214</td>\n",
       "      <td>11.312500</td>\n",
       "      <td>11.326071</td>\n",
       "      <td>361253200</td>\n",
       "    </tr>\n",
       "  </tbody>\n",
       "</table>\n",
       "</div>"
      ],
      "text/plain": [
       "        Open       High        Low      Close     Volume\n",
       "0  10.793571  10.914286  10.792857  10.863571  423889200\n",
       "1  10.964286  11.078214  10.964286  11.048571  433930000\n",
       "2  11.120357  11.174286  11.018929  11.171429  508348400\n",
       "3  11.266071  11.435000  11.251071  11.366786  642488000\n",
       "4  11.356786  11.413214  11.312500  11.326071  361253200"
      ]
     },
     "execution_count": 34,
     "metadata": {},
     "output_type": "execute_result"
    }
   ],
   "source": [
    "df=df.drop(['Date','Adj Close'],axis=1)\n",
    "df.head()"
   ]
  },
  {
   "cell_type": "code",
   "execution_count": 35,
   "id": "9bebe781",
   "metadata": {},
   "outputs": [
    {
     "data": {
      "text/plain": [
       "[<matplotlib.lines.Line2D at 0x24da3165640>]"
      ]
     },
     "execution_count": 35,
     "metadata": {},
     "output_type": "execute_result"
    },
    {
     "data": {
      "image/png": "[encoded data removed]",
      "text/plain": [
       "<Figure size 432x288 with 1 Axes>"
      ]
     },
     "metadata": {
      "needs_background": "light"
     },
     "output_type": "display_data"
    }
   ],
   "source": [
    "plt.plot(df.Close)"
   ]
  },
  {
   "cell_type": "code",
   "execution_count": 36,
   "id": "979b08e1",
   "metadata": {},
   "outputs": [
    {
     "data": {
      "text/plain": [
       "0              NaN\n",
       "1              NaN\n",
       "2              NaN\n",
       "3              NaN\n",
       "4              NaN\n",
       "           ...    \n",
       "3044    152.940799\n",
       "3045    152.868199\n",
       "3046    152.806899\n",
       "3047    152.723399\n",
       "3048    152.614599\n",
       "Name: Close, Length: 3049, dtype: float64"
      ]
     },
     "execution_count": 36,
     "metadata": {},
     "output_type": "execute_result"
    }
   ],
   "source": [
    "ma100=df.Close.rolling(100).mean()\n",
    "ma100"
   ]
  },
  {
   "cell_type": "code",
   "execution_count": 37,
   "id": "20fc2c1f",
   "metadata": {},
   "outputs": [
    {
     "data": {
      "text/plain": [
       "[<matplotlib.lines.Line2D at 0x24da31bf0d0>]"
      ]
     },
     "execution_count": 37,
     "metadata": {},
     "output_type": "execute_result"
    },
    {
     "data": {
      "image/png": "[encoded data removed]",
      "text/plain": [
       "<Figure size 864x432 with 1 Axes>"
      ]
     },
     "metadata": {
      "needs_background": "light"
     },
     "output_type": "display_data"
    }
   ],
   "source": [
    "plt.figure(figsize=(12,6))\n",
    "plt.plot(df.Close)\n",
    "plt.plot(ma100,'r')"
   ]
  },
  {
   "cell_type": "code",
   "execution_count": 38,
   "id": "a66dbd0a",
   "metadata": {},
   "outputs": [
    {
     "data": {
      "text/plain": [
       "0             NaN\n",
       "1             NaN\n",
       "2             NaN\n",
       "3             NaN\n",
       "4             NaN\n",
       "          ...    \n",
       "3044    153.85670\n",
       "3045    153.73475\n",
       "3046    153.61785\n",
       "3047    153.53075\n",
       "3048    153.42785\n",
       "Name: Close, Length: 3049, dtype: float64"
      ]
     },
     "execution_count": 38,
     "metadata": {},
     "output_type": "execute_result"
    }
   ],
   "source": [
    "ma200=df.Close.rolling(200).mean()\n",
    "ma200"
   ]
  },
  {
   "cell_type": "code",
   "execution_count": 39,
   "id": "ad608212",
   "metadata": {
    "scrolled": true
   },
   "outputs": [
    {
     "data": {
      "text/plain": [
       "[<matplotlib.lines.Line2D at 0x24da31f6c10>]"
      ]
     },
     "execution_count": 39,
     "metadata": {},
     "output_type": "execute_result"
    },
    {
     "data": {
      "image/png": "[encoded data removed]",
      "text/plain": [
       "<Figure size 864x432 with 1 Axes>"
      ]
     },
     "metadata": {
      "needs_background": "light"
     },
     "output_type": "display_data"
    }
   ],
   "source": [
    "plt.figure(figsize=(12,6))\n",
    "plt.plot(df.Close)\n",
    "plt.plot(ma100,'r')\n",
    "plt.plot(ma200,'g')"
   ]
  },
  {
   "cell_type": "code",
   "execution_count": 40,
   "id": "bdb856d2",
   "metadata": {},
   "outputs": [
    {
     "data": {
      "text/plain": [
       "(3049, 5)"
      ]
     },
     "execution_count": 40,
     "metadata": {},
     "output_type": "execute_result"
    }
   ],
   "source": [
    "df.shape"
   ]
  },
  {
   "cell_type": "code",
   "execution_count": 41,
   "id": "a4aff65f",
   "metadata": {},
   "outputs": [
    {
     "name": "stdout",
     "output_type": "stream",
     "text": [
      "(2134, 1)\n",
      "(915, 1)\n"
     ]
    }
   ],
   "source": [
    "#split data into training and testing\n",
    "data_training=pd.DataFrame(df['Close'][0:int(len(df)*0.7)])\n",
    "data_testing=pd.DataFrame(df['Close'][int(len(df)*0.7):int(len(df))])\n",
    "print(data_training.shape)\n",
    "print(data_testing.shape)"
   ]
  },
  {
   "cell_type": "code",
   "execution_count": 42,
   "id": "f7f7dbb0",
   "metadata": {},
   "outputs": [
    {
     "data": {
      "text/html": [
       "<div>\n",
       "<style scoped>\n",
       "    .dataframe tbody tr th:only-of-type {\n",
       "        vertical-align: middle;\n",
       "    }\n",
       "\n",
       "    .dataframe tbody tr th {\n",
       "        vertical-align: top;\n",
       "    }\n",
       "\n",
       "    .dataframe thead th {\n",
       "        text-align: right;\n",
       "    }\n",
       "</style>\n",
       "<table border=\"1\" class=\"dataframe\">\n",
       "  <thead>\n",
       "    <tr style=\"text-align: right;\">\n",
       "      <th></th>\n",
       "      <th>Close</th>\n",
       "    </tr>\n",
       "  </thead>\n",
       "  <tbody>\n",
       "    <tr>\n",
       "      <th>0</th>\n",
       "      <td>10.863571</td>\n",
       "    </tr>\n",
       "    <tr>\n",
       "      <th>1</th>\n",
       "      <td>11.048571</td>\n",
       "    </tr>\n",
       "    <tr>\n",
       "      <th>2</th>\n",
       "      <td>11.171429</td>\n",
       "    </tr>\n",
       "    <tr>\n",
       "      <th>3</th>\n",
       "      <td>11.366786</td>\n",
       "    </tr>\n",
       "    <tr>\n",
       "      <th>4</th>\n",
       "      <td>11.326071</td>\n",
       "    </tr>\n",
       "  </tbody>\n",
       "</table>\n",
       "</div>"
      ],
      "text/plain": [
       "       Close\n",
       "0  10.863571\n",
       "1  11.048571\n",
       "2  11.171429\n",
       "3  11.366786\n",
       "4  11.326071"
      ]
     },
     "execution_count": 42,
     "metadata": {},
     "output_type": "execute_result"
    }
   ],
   "source": [
    "data_training.head()"
   ]
  },
  {
   "cell_type": "code",
   "execution_count": 43,
   "id": "3d877587",
   "metadata": {},
   "outputs": [
    {
     "data": {
      "text/html": [
       "<div>\n",
       "<style scoped>\n",
       "    .dataframe tbody tr th:only-of-type {\n",
       "        vertical-align: middle;\n",
       "    }\n",
       "\n",
       "    .dataframe tbody tr th {\n",
       "        vertical-align: top;\n",
       "    }\n",
       "\n",
       "    .dataframe thead th {\n",
       "        text-align: right;\n",
       "    }\n",
       "</style>\n",
       "<table border=\"1\" class=\"dataframe\">\n",
       "  <thead>\n",
       "    <tr style=\"text-align: right;\">\n",
       "      <th></th>\n",
       "      <th>Close</th>\n",
       "    </tr>\n",
       "  </thead>\n",
       "  <tbody>\n",
       "    <tr>\n",
       "      <th>2134</th>\n",
       "      <td>51.075001</td>\n",
       "    </tr>\n",
       "    <tr>\n",
       "      <th>2135</th>\n",
       "      <td>51.152500</td>\n",
       "    </tr>\n",
       "    <tr>\n",
       "      <th>2136</th>\n",
       "      <td>50.167500</td>\n",
       "    </tr>\n",
       "    <tr>\n",
       "      <th>2137</th>\n",
       "      <td>52.630001</td>\n",
       "    </tr>\n",
       "    <tr>\n",
       "      <th>2138</th>\n",
       "      <td>52.287498</td>\n",
       "    </tr>\n",
       "  </tbody>\n",
       "</table>\n",
       "</div>"
      ],
      "text/plain": [
       "          Close\n",
       "2134  51.075001\n",
       "2135  51.152500\n",
       "2136  50.167500\n",
       "2137  52.630001\n",
       "2138  52.287498"
      ]
     },
     "execution_count": 43,
     "metadata": {},
     "output_type": "execute_result"
    }
   ],
   "source": [
    "data_testing.head()"
   ]
  },
  {
   "cell_type": "code",
   "execution_count": 44,
   "id": "1c42c558",
   "metadata": {},
   "outputs": [],
   "source": [
    "from sklearn.preprocessing import MinMaxScaler\n",
    "scaler=MinMaxScaler(feature_range=(0,1))"
   ]
  },
  {
   "cell_type": "code",
   "execution_count": 45,
   "id": "db6d5256",
   "metadata": {},
   "outputs": [
    {
     "data": {
      "text/plain": [
       "array([[0.00277946],\n",
       "       [0.00669186],\n",
       "       [0.00929009],\n",
       "       ...,\n",
       "       [0.86999141],\n",
       "       [0.86829959],\n",
       "       [0.85835992]])"
      ]
     },
     "execution_count": 45,
     "metadata": {},
     "output_type": "execute_result"
    }
   ],
   "source": [
    "data_training_array=scaler.fit_transform(data_training)\n",
    "data_training_array"
   ]
  },
  {
   "cell_type": "code",
   "execution_count": 46,
   "id": "c9b2f8f5",
   "metadata": {},
   "outputs": [],
   "source": [
    "# x_train=[]\n",
    "# y_train=[]\n",
    "# for i in range(100,data_training_array.shape[0]):\n",
    "#     x_train=np.append(x_train,data_training_array[i-100:i])#changed\n",
    "#     y_train=np.append(y_train,data_training_array[i,0])\n",
    "#     x_train,y_train=np.array(x_train),np.array(y_train)\n",
    "x_train=[]\n",
    "y_train=[] \n",
    "\n",
    "for i in range(100,data_training_array.shape[0]):\n",
    "    x_train.append(data_training_array[i-100:i])\n",
    "    y_train.append(data_training_array[i,0])\n",
    "   \n",
    "x_train=np.array(x_train)\n",
    "y_train=np.array(y_train)\n",
    "# When return_sequences parameter is True, it’ll output all of the hidden states of every time steps"
   ]
  },
  {
   "cell_type": "code",
   "execution_count": 47,
   "id": "d665a5c5",
   "metadata": {},
   "outputs": [],
   "source": [
    "from keras.layers import Dense, Dropout, LSTM\n",
    "from keras.models import Sequential"
   ]
  },
  {
   "cell_type": "code",
   "execution_count": 28,
   "id": "6bcdd6e0",
   "metadata": {
    "scrolled": true
   },
   "outputs": [],
   "source": [
    "model=Sequential()\n",
    "model.add(LSTM(units=50,activation='relu',return_sequences=True,input_shape=(x_train.shape[1],1)))\n",
    "model.add(Dropout(0.2))#to prevent from overfitting \n",
    "\n",
    "model.add(LSTM(units=60,activation='relu',return_sequences=True))\n",
    "model.add(Dropout(0.3))\n",
    "\n",
    "model.add(LSTM(units=80,activation='relu',return_sequences=True))\n",
    "model.add(Dropout(0.4))\n",
    "\n",
    "model.add(LSTM(units=120,activation='relu'))\n",
    "model.add(Dropout(0.5))\n",
    "\n",
    "model.add(Dense(units=1))"
   ]
  },
  {
   "cell_type": "code",
   "execution_count": 29,
   "id": "227c4993",
   "metadata": {},
   "outputs": [
    {
     "name": "stdout",
     "output_type": "stream",
     "text": [
      "Model: \"sequential\"\n",
      "_________________________________________________________________\n",
      " Layer (type)                Output Shape              Param #   \n",
      "=================================================================\n",
      " lstm (LSTM)                 (None, 100, 50)           10400     \n",
      "                                                                 \n",
      " dropout (Dropout)           (None, 100, 50)           0         \n",
      "                                                                 \n",
      " lstm_1 (LSTM)               (None, 100, 60)           26640     \n",
      "                                                                 \n",
      " dropout_1 (Dropout)         (None, 100, 60)           0         \n",
      "                                                                 \n",
      " lstm_2 (LSTM)               (None, 100, 80)           45120     \n",
      "                                                                 \n",
      " dropout_2 (Dropout)         (None, 100, 80)           0         \n",
      "                                                                 \n",
      " lstm_3 (LSTM)               (None, 120)               96480     \n",
      "                                                                 \n",
      " dropout_3 (Dropout)         (None, 120)               0         \n",
      "                                                                 \n",
      " dense (Dense)               (None, 1)                 121       \n",
      "                                                                 \n",
      "=================================================================\n",
      "Total params: 178,761\n",
      "Trainable params: 178,761\n",
      "Non-trainable params: 0\n",
      "_________________________________________________________________\n"
     ]
    }
   ],
   "source": [
    "model.summary()"
   ]
  },
  {
   "cell_type": "code",
   "execution_count": 30,
   "id": "c672138a",
   "metadata": {},
   "outputs": [
    {
     "name": "stdout",
     "output_type": "stream",
     "text": [
      "Epoch 1/50\n",
      "64/64 [==============================] - 19s 212ms/step - loss: 0.0388\n",
      "Epoch 2/50\n",
      "64/64 [==============================] - 14s 213ms/step - loss: 0.0075\n",
      "Epoch 3/50\n",
      "64/64 [==============================] - 14s 218ms/step - loss: 0.0071\n",
      "Epoch 4/50\n",
      "64/64 [==============================] - 14s 212ms/step - loss: 0.0055\n",
      "Epoch 5/50\n",
      "64/64 [==============================] - 14s 213ms/step - loss: 0.0056\n",
      "Epoch 6/50\n",
      "64/64 [==============================] - 13s 206ms/step - loss: 0.0048\n",
      "Epoch 7/50\n",
      "64/64 [==============================] - 14s 216ms/step - loss: 0.0049\n",
      "Epoch 8/50\n",
      "64/64 [==============================] - 14s 215ms/step - loss: 0.0045\n",
      "Epoch 9/50\n",
      "64/64 [==============================] - 14s 212ms/step - loss: 0.0047\n",
      "Epoch 10/50\n",
      "64/64 [==============================] - 14s 213ms/step - loss: 0.0045\n",
      "Epoch 11/50\n",
      "64/64 [==============================] - 13s 207ms/step - loss: 0.0040\n",
      "Epoch 12/50\n",
      "64/64 [==============================] - 14s 215ms/step - loss: 0.0038\n",
      "Epoch 13/50\n",
      "64/64 [==============================] - 14s 216ms/step - loss: 0.0036\n",
      "Epoch 14/50\n",
      "64/64 [==============================] - 14s 220ms/step - loss: 0.0033\n",
      "Epoch 15/50\n",
      "64/64 [==============================] - 13s 207ms/step - loss: 0.0042\n",
      "Epoch 16/50\n",
      "64/64 [==============================] - 13s 204ms/step - loss: 0.0038\n",
      "Epoch 17/50\n",
      "64/64 [==============================] - 13s 204ms/step - loss: 0.0032\n",
      "Epoch 18/50\n",
      "64/64 [==============================] - 14s 212ms/step - loss: 0.0031\n",
      "Epoch 19/50\n",
      "64/64 [==============================] - 13s 208ms/step - loss: 0.0032\n",
      "Epoch 20/50\n",
      "64/64 [==============================] - 13s 202ms/step - loss: 0.0029\n",
      "Epoch 21/50\n",
      "64/64 [==============================] - 13s 203ms/step - loss: 0.0033\n",
      "Epoch 22/50\n",
      "64/64 [==============================] - 13s 210ms/step - loss: 0.0028\n",
      "Epoch 23/50\n",
      "64/64 [==============================] - 14s 211ms/step - loss: 0.0027\n",
      "Epoch 24/50\n",
      "64/64 [==============================] - 13s 209ms/step - loss: 0.0029\n",
      "Epoch 25/50\n",
      "64/64 [==============================] - 14s 212ms/step - loss: 0.0024\n",
      "Epoch 26/50\n",
      "64/64 [==============================] - 15s 226ms/step - loss: 0.0028\n",
      "Epoch 27/50\n",
      "64/64 [==============================] - 14s 219ms/step - loss: 0.0027\n",
      "Epoch 28/50\n",
      "64/64 [==============================] - 14s 216ms/step - loss: 0.0026\n",
      "Epoch 29/50\n",
      "64/64 [==============================] - 13s 205ms/step - loss: 0.0025\n",
      "Epoch 30/50\n",
      "64/64 [==============================] - 13s 209ms/step - loss: 0.0026\n",
      "Epoch 31/50\n",
      "64/64 [==============================] - 15s 235ms/step - loss: 0.0026\n",
      "Epoch 32/50\n",
      "64/64 [==============================] - 14s 221ms/step - loss: 0.0024\n",
      "Epoch 33/50\n",
      "64/64 [==============================] - 14s 223ms/step - loss: 0.0024\n",
      "Epoch 34/50\n",
      "64/64 [==============================] - 15s 229ms/step - loss: 0.0022\n",
      "Epoch 35/50\n",
      "64/64 [==============================] - 15s 227ms/step - loss: 0.0025\n",
      "Epoch 36/50\n",
      "64/64 [==============================] - 15s 228ms/step - loss: 0.0023\n",
      "Epoch 37/50\n",
      "64/64 [==============================] - 13s 208ms/step - loss: 0.0023\n",
      "Epoch 38/50\n",
      "64/64 [==============================] - 13s 207ms/step - loss: 0.0025\n",
      "Epoch 39/50\n",
      "64/64 [==============================] - 14s 217ms/step - loss: 0.0022\n",
      "Epoch 40/50\n",
      "64/64 [==============================] - 13s 207ms/step - loss: 0.0022\n",
      "Epoch 41/50\n",
      "64/64 [==============================] - 14s 221ms/step - loss: 0.0021\n",
      "Epoch 42/50\n",
      "64/64 [==============================] - 14s 220ms/step - loss: 0.0023\n",
      "Epoch 43/50\n",
      "64/64 [==============================] - 14s 214ms/step - loss: 0.0019\n",
      "Epoch 44/50\n",
      "64/64 [==============================] - 14s 212ms/step - loss: 0.0024\n",
      "Epoch 45/50\n",
      "64/64 [==============================] - 14s 219ms/step - loss: 0.0021\n",
      "Epoch 46/50\n",
      "64/64 [==============================] - 14s 222ms/step - loss: 0.0021\n",
      "Epoch 47/50\n",
      "64/64 [==============================] - 14s 209ms/step - loss: 0.0021\n",
      "Epoch 48/50\n",
      "64/64 [==============================] - 14s 213ms/step - loss: 0.0020\n",
      "Epoch 49/50\n",
      "64/64 [==============================] - 14s 214ms/step - loss: 0.0020\n",
      "Epoch 50/50\n",
      "64/64 [==============================] - 14s 211ms/step - loss: 0.0023\n"
     ]
    },
    {
     "data": {
      "text/plain": [
       "<keras.callbacks.History at 0x2f381d4aa30>"
      ]
     },
     "execution_count": 30,
     "metadata": {},
     "output_type": "execute_result"
    }
   ],
   "source": [
    "model.compile(optimizer='adam',loss='mean_squared_error')#rms\n",
    "model.fit(x_train,y_train,epochs=50)#model kitni baar train hoga refined hoga"
   ]
  },
  {
   "cell_type": "code",
   "execution_count": 31,
   "id": "aca167aa",
   "metadata": {},
   "outputs": [],
   "source": [
    "model.save('keras_model.h5')"
   ]
  },
  {
   "cell_type": "code",
   "execution_count": 32,
   "id": "cf2b6875",
   "metadata": {},
   "outputs": [
    {
     "data": {
      "text/html": [
       "<div>\n",
       "<style scoped>\n",
       "    .dataframe tbody tr th:only-of-type {\n",
       "        vertical-align: middle;\n",
       "    }\n",
       "\n",
       "    .dataframe tbody tr th {\n",
       "        vertical-align: top;\n",
       "    }\n",
       "\n",
       "    .dataframe thead th {\n",
       "        text-align: right;\n",
       "    }\n",
       "</style>\n",
       "<table border=\"1\" class=\"dataframe\">\n",
       "  <thead>\n",
       "    <tr style=\"text-align: right;\">\n",
       "      <th></th>\n",
       "      <th>Close</th>\n",
       "    </tr>\n",
       "  </thead>\n",
       "  <tbody>\n",
       "    <tr>\n",
       "      <th>2134</th>\n",
       "      <td>51.075001</td>\n",
       "    </tr>\n",
       "    <tr>\n",
       "      <th>2135</th>\n",
       "      <td>51.152500</td>\n",
       "    </tr>\n",
       "    <tr>\n",
       "      <th>2136</th>\n",
       "      <td>50.167500</td>\n",
       "    </tr>\n",
       "    <tr>\n",
       "      <th>2137</th>\n",
       "      <td>52.630001</td>\n",
       "    </tr>\n",
       "    <tr>\n",
       "      <th>2138</th>\n",
       "      <td>52.287498</td>\n",
       "    </tr>\n",
       "  </tbody>\n",
       "</table>\n",
       "</div>"
      ],
      "text/plain": [
       "          Close\n",
       "2134  51.075001\n",
       "2135  51.152500\n",
       "2136  50.167500\n",
       "2137  52.630001\n",
       "2138  52.287498"
      ]
     },
     "execution_count": 32,
     "metadata": {},
     "output_type": "execute_result"
    }
   ],
   "source": [
    "data_testing.head()"
   ]
  },
  {
   "cell_type": "code",
   "execution_count": 49,
   "id": "29890ff2",
   "metadata": {},
   "outputs": [],
   "source": [
    "df = pd.DataFrame(data_training)\n",
    "past_100_days=df.tail(100)"
   ]
  },
  {
   "cell_type": "code",
   "execution_count": 34,
   "id": "31556b94",
   "metadata": {},
   "outputs": [
    {
     "name": "stderr",
     "output_type": "stream",
     "text": [
      "C:\\Users\\ASUS\\AppData\\Local\\Temp\\ipykernel_29128\\1277850647.py:1: FutureWarning: The frame.append method is deprecated and will be removed from pandas in a future version. Use pandas.concat instead.\n",
      "  final_df=past_100_days.append(data_testing,ignore_index=True)\n"
     ]
    },
    {
     "data": {
      "text/html": [
       "<div>\n",
       "<style scoped>\n",
       "    .dataframe tbody tr th:only-of-type {\n",
       "        vertical-align: middle;\n",
       "    }\n",
       "\n",
       "    .dataframe tbody tr th {\n",
       "        vertical-align: top;\n",
       "    }\n",
       "\n",
       "    .dataframe thead th {\n",
       "        text-align: right;\n",
       "    }\n",
       "</style>\n",
       "<table border=\"1\" class=\"dataframe\">\n",
       "  <thead>\n",
       "    <tr style=\"text-align: right;\">\n",
       "      <th></th>\n",
       "      <th>Close</th>\n",
       "    </tr>\n",
       "  </thead>\n",
       "  <tbody>\n",
       "    <tr>\n",
       "      <th>0</th>\n",
       "      <td>44.887501</td>\n",
       "    </tr>\n",
       "    <tr>\n",
       "      <th>1</th>\n",
       "      <td>44.645000</td>\n",
       "    </tr>\n",
       "    <tr>\n",
       "      <th>2</th>\n",
       "      <td>46.205002</td>\n",
       "    </tr>\n",
       "    <tr>\n",
       "      <th>3</th>\n",
       "      <td>44.172501</td>\n",
       "    </tr>\n",
       "    <tr>\n",
       "      <th>4</th>\n",
       "      <td>43.680000</td>\n",
       "    </tr>\n",
       "  </tbody>\n",
       "</table>\n",
       "</div>"
      ],
      "text/plain": [
       "       Close\n",
       "0  44.887501\n",
       "1  44.645000\n",
       "2  46.205002\n",
       "3  44.172501\n",
       "4  43.680000"
      ]
     },
     "execution_count": 34,
     "metadata": {},
     "output_type": "execute_result"
    }
   ],
   "source": [
    "final_df=past_100_days.append(data_testing,ignore_index=True)\n",
    "final_df.head()"
   ]
  },
  {
   "cell_type": "code",
   "execution_count": 35,
   "id": "3f8c7e69",
   "metadata": {},
   "outputs": [
    {
     "data": {
      "text/plain": [
       "array([[0.06377059],\n",
       "       [0.06211488],\n",
       "       [0.07276608],\n",
       "       ...,\n",
       "       [0.71958697],\n",
       "       [0.73126225],\n",
       "       [0.72791675]])"
      ]
     },
     "execution_count": 35,
     "metadata": {},
     "output_type": "execute_result"
    }
   ],
   "source": [
    "input_data=scaler.fit_transform(final_df)\n",
    "input_data"
   ]
  },
  {
   "cell_type": "code",
   "execution_count": 36,
   "id": "265ae62d",
   "metadata": {},
   "outputs": [],
   "source": [
    "x_test=[]\n",
    "y_test=[]\n",
    "\n",
    "for i in range(100,input_data.shape[0]):\n",
    "    x_test.append(input_data[i-100:i])\n",
    "    y_test.append(input_data[i,0])"
   ]
  },
  {
   "cell_type": "code",
   "execution_count": 37,
   "id": "2e7ff1b5",
   "metadata": {},
   "outputs": [],
   "source": [
    "x_test=np.array(x_test)\n",
    "y_test=np.array(y_test)"
   ]
  },
  {
   "cell_type": "code",
   "execution_count": 38,
   "id": "03e18046",
   "metadata": {},
   "outputs": [
    {
     "data": {
      "text/plain": [
       "(915, 100, 1)"
      ]
     },
     "execution_count": 38,
     "metadata": {},
     "output_type": "execute_result"
    }
   ],
   "source": [
    "x_test.shape"
   ]
  },
  {
   "cell_type": "code",
   "execution_count": 39,
   "id": "a65b38f1",
   "metadata": {},
   "outputs": [
    {
     "name": "stdout",
     "output_type": "stream",
     "text": [
      "29/29 [==============================] - 2s 59ms/step\n"
     ]
    }
   ],
   "source": [
    "y_pred=model.predict(x_test)"
   ]
  },
  {
   "cell_type": "code",
   "execution_count": 40,
   "id": "7a4e3982",
   "metadata": {},
   "outputs": [
    {
     "data": {
      "text/plain": [
       "(915, 1)"
      ]
     },
     "execution_count": 40,
     "metadata": {},
     "output_type": "execute_result"
    }
   ],
   "source": [
    "y_pred.shape"
   ]
  },
  {
   "cell_type": "code",
   "execution_count": 41,
   "id": "62e85f20",
   "metadata": {},
   "outputs": [
    {
     "data": {
      "text/plain": [
       "array([0.00682769])"
      ]
     },
     "execution_count": 41,
     "metadata": {},
     "output_type": "execute_result"
    }
   ],
   "source": [
    " scaler.scale_"
   ]
  },
  {
   "cell_type": "code",
   "execution_count": 42,
   "id": "16c3b886",
   "metadata": {},
   "outputs": [],
   "source": [
    "scale_factor=1/0.00682769\n",
    "y_pred=y_pred*scale_factor\n",
    "y_test=y_test*scale_factor"
   ]
  },
  {
   "cell_type": "code",
   "execution_count": 43,
   "id": "dcc6768a",
   "metadata": {},
   "outputs": [
    {
     "data": {
      "image/png": "[encoded data removed]",
      "text/plain": [
       "<Figure size 864x432 with 1 Axes>"
      ]
     },
     "metadata": {
      "needs_background": "light"
     },
     "output_type": "display_data"
    }
   ],
   "source": [
    "plt.figure(figsize=(12,6))\n",
    "plt.plot(y_test,'b',label='Original Price')\n",
    "plt.plot(y_pred,'r',label='Predicted Price')\n",
    "plt.xlabel('Time')\n",
    "plt.ylabel('Price')\n",
    "plt.legend()\n",
    "plt.show()"
   ]
  },
  {
   "cell_type": "code",
   "execution_count": 60,
   "id": "785dd613",
   "metadata": {},
   "outputs": [],
   "source": []
  },
  {
   "cell_type": "code",
   "execution_count": 61,
   "id": "19b7f1da",
   "metadata": {},
   "outputs": [
    {
     "data": {
      "text/plain": [
       "array([[1.47049073, 1.4631878 , 1.5617679 , ..., 0.21664772, 0.21318873,\n",
       "        0.21416855],\n",
       "       [1.48179498, 1.47443591, 1.57377383, ..., 0.21831318, 0.2148276 ,\n",
       "        0.21581495],\n",
       "       [1.49232321, 1.48491186, 1.58495558, ..., 0.2198643 , 0.21635396,\n",
       "        0.21734832],\n",
       "       ...,\n",
       "       [6.9902503 , 6.95553449, 7.42415325, ..., 1.02987509, 1.01343217,\n",
       "        1.0180899 ],\n",
       "       [6.95669853, 6.92214936, 7.38851884, ..., 1.0249319 , 1.00856791,\n",
       "        1.01320328],\n",
       "       [6.91819865, 6.88384067, 7.34762917, ..., 1.01925971, 1.00298627,\n",
       "        1.00759599]])"
      ]
     },
     "execution_count": 61,
     "metadata": {},
     "output_type": "execute_result"
    }
   ],
   "source": []
  },
  {
   "cell_type": "code",
   "execution_count": null,
   "id": "c28462d1",
   "metadata": {},
   "outputs": [],
   "source": []
  }
 ],
 "metadata": {
  "kernelspec": {
   "display_name": "Python 3 (ipykernel)",
   "language": "python",
   "name": "python3"
  },
  "language_info": {
   "codemirror_mode": {
    "name": "ipython",
    "version": 3
   },
   "file_extension": ".py",
   "mimetype": "text/x-python",
   "name": "python",
   "nbconvert_exporter": "python",
   "pygments_lexer": "ipython3",
   "version": "3.9.12"
  }
 },
 "nbformat": 4,
 "nbformat_minor": 5
}
